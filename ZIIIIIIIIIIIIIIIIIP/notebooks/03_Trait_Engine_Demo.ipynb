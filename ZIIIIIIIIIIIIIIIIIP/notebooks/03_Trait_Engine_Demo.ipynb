{
 "cells": [
  {
   "cell_type": "code",
   "execution_count": null,
   "metadata": {
    "vscode": {
     "languageId": "plaintext"
    }
   },
   "outputs": [],
   "source": [
    "{\n",
    " \"cells\": [\n",
    "  {\n",
    "   \"cell_type\": \"markdown\",\n",
    "   \"metadata\": {},\n",
    "   \"source\": [\n",
    "    \"# 🧬 Trait Engine - Quick Demo\\n\",\n",
    "    \"\\n\",\n",
    "    \"Simple demonstration of the Trait Engine's neural network capabilities.\"\n",
    "   ]\n",
    "  },\n",
    "  {\n",
    "   \"cell_type\": \"code\",\n",
    "   \"execution_count\": null,\n",
    "   \"metadata\": {},\n",
    "   \"outputs\": [],\n",
    "   \"source\": [\n",
    "    \"import sys\\n\",\n",
    "    \"import os\\n\",\n",
    "    \"from pathlib import Path\\n\",\n",
    "    \"\\n\",\n",
    "    \"# Add project root to path\\n\",\n",
    "    \"project_root = Path.cwd().parent\\n\",\n",
    "    \"sys.path.append(str(project_root))\\n\",\n",
    "    \"\\n\",\n",
    "    \"print(\\\"🧬 Trait Engine Demo - Ready!\\\")\\n\",\n",
    "    \"print(\\\"Check the trait engine components:\\\")\\n\",\n",
    "    \"print(f\\\"• Trait Engine: {project_root}/IlanyaTraitEngine/src/trait_engine/\\\")\\n\",\n",
    "    \"print(f\\\"• Neural Networks: {project_root}/IlanyaTraitEngine/src/neural_networks/\\\")\\n\",\n",
    "    \"print(f\\\"• Trait Models: {project_root}/IlanyaTraitEngine/src/trait_models/\\\")\"\n",
    "   ]\n",
    "  }\n",
    " ],\n",
    " \"metadata\": {\n",
    "  \"kernelspec\": {\n",
    "   \"display_name\": \"Python 3\",\n",
    "   \"language\": \"python\",\n",
    "   \"name\": \"python3\"\n",
    "  },\n",
    "  \"language_info\": {\n",
    "   \"codemirror_mode\": {\n",
    "    \"name\": \"ipython\",\n",
    "    \"version\": 3\n",
    "   },\n",
    "   \"file_extension\": \".py\",\n",
    "   \"mimetype\": \"text/x-python\",\n",
    "   \"name\": \"python\",\n",
    "   \"nbconvert_exporter\": \"python\",\n",
    "   \"pygments_lexer\": \"ipython3\",\n",
    "   \"version\": \"3.8.0\"\n",
    "  }\n",
    " },\n",
    " \"nbformat\": 4,\n",
    " \"nbformat_minor\": 4\n",
    "}"
   ]
  }
 ],
 "metadata": {
  "language_info": {
   "name": "python"
  }
 },
 "nbformat": 4,
 "nbformat_minor": 2
}
